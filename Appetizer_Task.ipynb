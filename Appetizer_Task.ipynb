{
 "cells": [
  {
   "cell_type": "markdown",
   "metadata": {},
   "source": [
    "# Appetizer Task: Hand-Written Digit Classification with Least-Squares"
   ]
  },
  {
   "cell_type": "code",
   "execution_count": 1,
   "metadata": {},
   "outputs": [],
   "source": [
    "###Do not change the code here\n",
    "from matplotlib.pyplot import plot\n",
    "import matplotlib.pyplot as plt\n",
    "import numpy as np"
   ]
  },
  {
   "cell_type": "markdown",
   "metadata": {},
   "source": [
    "## Appetizer Task\n",
    "Please read the Appetizer section in the pdf file for the project requirement."
   ]
  },
  {
   "cell_type": "code",
   "execution_count": 2,
   "metadata": {},
   "outputs": [],
   "source": [
    "###Do not change the code here\n",
    "train_data_path = \"MNIST_Sub/\" + \"train_data.txt\"\n",
    "train_labels_path = \"MNIST_Sub/\" + \"train_labels.txt\"\n",
    "test_data_path = \"MNIST_Sub/\" + \"test_data.txt\"\n",
    "test_labels_path = \"MNIST_Sub/\" + \"test_labels.txt\"\n",
    "\n",
    "### the dataset class is provided ###\n",
    "class Dataset:\n",
    "    def __init__(self, train_data_path, train_labels_path, test_data_path, test_labels_path):\n",
    "        self.train_data_path = train_data_path\n",
    "        self.train_labels_path = train_labels_path\n",
    "        self.test_data_path = test_data_path\n",
    "        self.test_labels_path = test_labels_path\n",
    "        \n",
    "        self.train_data = []\n",
    "        self.train_labels = []\n",
    "        self.test_data = []\n",
    "        self.test_labels = []\n",
    "\n",
    "    def dataloader(self,):\n",
    "            '''\n",
    "            The shape of train data should be (n_samples,28^2)\n",
    "            '''\n",
    "            with open(self.train_data_path, \"r\") as f:\n",
    "                for line in f:\n",
    "                    self.train_data.append(np.array(line.strip().split()).astype(np.float64)/255.0)\n",
    "                self.train_data = np.array(self.train_data)\n",
    "\n",
    "            with open(self.train_labels_path, \"r\") as f:\n",
    "                for line in f:\n",
    "                    self.train_labels.append(int(line.strip()))\n",
    "                self.train_labels = np.array(self.train_labels)\n",
    "                \n",
    "\n",
    "            with open(self.test_data_path, \"r\") as f:\n",
    "                for line in f:\n",
    "                    self.test_data.append(np.array(line.strip().split()).astype(np.float64)/255.0)\n",
    "                self.test_data = np.array(self.test_data)\n",
    "                \n",
    "\n",
    "            with open(self.test_labels_path, \"r\") as f:\n",
    "                for line in f:\n",
    "                    self.test_labels.append(int(line.strip()))\n",
    "                self.test_labels = np.array(self.test_labels)\n",
    "                \n",
    "                \n"
   ]
  },
  {
   "cell_type": "code",
   "execution_count": 3,
   "metadata": {},
   "outputs": [],
   "source": [
    "###TODO: implement your functions, don't change input \n",
    "\n",
    "#add a bias column to x \n",
    "def add_bias_column(x):\n",
    "    bias = np.ones([x.shape[0], 1])\n",
    "    return np.concatenate((x,bias), 1)\n",
    "\n",
    "###the main function for solving theta, refer to the project requirement\n",
    "def classifier(x, y, classes=10):\n",
    "    #x: train_data\n",
    "    #y: train_labels\n",
    "    #classes: # of classes\n",
    "   \n",
    "    x = add_bias_column(x)\n",
    "    theta = np.zeros([x.shape[1], classes])\n",
    "    \n",
    "    ### your code starts here ###\n",
    "    \n",
    "    #add noise to A in Ax = b\n",
    "    ATA = (x.T @ x)\n",
    "    for i in range (ATA.shape[1]):\n",
    "        for j in range (ATA.shape[0]):\n",
    "            ATA[i][j] += np.random.uniform(0,0.001) \n",
    "            \n",
    "    #create the b matrix\n",
    "    #b[i,j] = 1 if y[i] = j; else b[i,j = -1\n",
    "    b = np.full((y.shape[0], classes), -1)\n",
    "    for j in range(classes):\n",
    "        for i in range(y.shape[0]):\n",
    "            if y[i] == j:\n",
    "                b[i,j] = 1\n",
    "        \n",
    "    #solve for each column of weights (one for each digit) using normal equation\n",
    "    for i in range(classes):\n",
    "        theta_i = np.linalg.solve(ATA, x.T @ b[:,i])\n",
    "        theta[:,i] = theta_i\n",
    "    \n",
    "    ### your code ends here ###\n",
    "    \n",
    "    return theta\n",
    "    \n",
    "#evaluate your solution on test data\n",
    "def evaluate(x, y, theta):\n",
    "    x = add_bias_column(x)\n",
    "    y_pred = np.matmul(x, theta)\n",
    "    y_pred = np.argmax(y_pred, 1)\n",
    "    accuracy = (y_pred == y).mean()\n",
    "    \n",
    "    return accuracy, y_pred\n"
   ]
  },
  {
   "cell_type": "code",
   "execution_count": 4,
   "metadata": {},
   "outputs": [
    {
     "name": "stdout",
     "output_type": "stream",
     "text": [
      "# of training samples: 1000\n",
      "# of testing samples: 200\n"
     ]
    }
   ],
   "source": [
    "###Do not change the code###\n",
    "###load data###\n",
    "data = Dataset(train_data_path, train_labels_path, test_data_path, test_labels_path)\n",
    "data.dataloader()\n",
    "x_train, y_train, x_test, y_test = data.train_data, data.train_labels, data.test_data, data.test_labels\n",
    "print(\"# of training samples:\", x_train.shape[0])\n",
    "print(\"# of testing samples:\", x_test.shape[0])"
   ]
  },
  {
   "cell_type": "code",
   "execution_count": 5,
   "metadata": {},
   "outputs": [
    {
     "name": "stdout",
     "output_type": "stream",
     "text": [
      "Training accuracy is: 0.984\n",
      "Testing accuracy is: 0.52\n"
     ]
    }
   ],
   "source": [
    "###Run your code and print out the test accuracy\n",
    "\n",
    "theta = classifier(x_train, y_train) ###solve Theta\n",
    "training_accuracy, y_train_pred = evaluate(x_train, y_train, theta)\n",
    "print(\"Training accuracy is:\", training_accuracy)\n",
    "\n",
    "testing_accuracy, y_test_pred = evaluate(x_test, y_test, theta) ###test \n",
    "print(\"Testing accuracy is:\", testing_accuracy)"
   ]
  },
  {
   "cell_type": "code",
   "execution_count": 6,
   "metadata": {},
   "outputs": [
    {
     "data": {
      "image/png": "[encoded data removed]",
      "text/plain": [
       "<Figure size 432x288 with 2 Axes>"
      ]
     },
     "metadata": {
      "needs_background": "light"
     },
     "output_type": "display_data"
    }
   ],
   "source": [
    "#confusion matrix\n",
    "from sklearn.metrics import confusion_matrix\n",
    "import seaborn as sns\n",
    "cf_matrix = confusion_matrix(y_test, y_test_pred)\n",
    "sns.heatmap(cf_matrix, annot=True, cmap='Blues')\n",
    "plt.show()"
   ]
  },
  {
   "cell_type": "code",
   "execution_count": null,
   "metadata": {},
   "outputs": [],
   "source": []
  }
 ],
 "metadata": {
  "kernelspec": {
   "display_name": "Python 3",
   "language": "python",
   "name": "python3"
  },
  "language_info": {
   "codemirror_mode": {
    "name": "ipython",
    "version": 3
   },
   "file_extension": ".py",
   "mimetype": "text/x-python",
   "name": "python",
   "nbconvert_exporter": "python",
   "pygments_lexer": "ipython3",
   "version": "3.8.3"
  }
 },
 "nbformat": 4,
 "nbformat_minor": 4
}
